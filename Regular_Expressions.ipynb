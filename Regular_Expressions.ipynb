{
  "nbformat": 4,
  "nbformat_minor": 0,
  "metadata": {
    "colab": {
      "provenance": [],
      "authorship_tag": "ABX9TyNvSKjKLNybExUi8ChfFcyp",
      "include_colab_link": true
    },
    "kernelspec": {
      "name": "python3",
      "display_name": "Python 3"
    },
    "language_info": {
      "name": "python"
    }
  },
  "cells": [
    {
      "cell_type": "markdown",
      "metadata": {
        "id": "view-in-github",
        "colab_type": "text"
      },
      "source": [
        "<a href=\"https://colab.research.google.com/github/Anilabhimanyu/Data-Structures/blob/main/Regular_Expressions.ipynb\" target=\"_parent\"><img src=\"https://colab.research.google.com/assets/colab-badge.svg\" alt=\"Open In Colab\"/></a>"
      ]
    },
    {
      "cell_type": "markdown",
      "source": [
        "# REGULAR EXPRESSIONS"
      ],
      "metadata": {
        "id": "tloIHfb6-0uC"
      }
    },
    {
      "cell_type": "markdown",
      "source": [
        "** A special sequence of characters, that are used to fetch or match sets of strings & basic thing asked for NATURAL LANGUAGE PROCESSING **"
      ],
      "metadata": {
        "id": "WAXyGy_8-8rI"
      }
    },
    {
      "cell_type": "code",
      "source": [],
      "metadata": {
        "id": "L-w0WV21-7bJ"
      },
      "execution_count": null,
      "outputs": []
    },
    {
      "cell_type": "code",
      "execution_count": null,
      "metadata": {
        "colab": {
          "base_uri": "https://localhost:8080/"
        },
        "id": "yseJRg0IoUJG",
        "outputId": "4d3f7fc6-87a5-4e3d-99b6-f79127d00d09"
      },
      "outputs": [
        {
          "output_type": "stream",
          "name": "stdout",
          "text": [
            "cat has 2 ears\n"
          ]
        }
      ],
      "source": [
        "import re\n",
        "matchh=re.match(r'^cat(.*)',\"cat has 2 ears\")\n",
        "print(matchh.group())"
      ]
    },
    {
      "cell_type": "code",
      "source": [],
      "metadata": {
        "id": "FYCvS-SN-0Y-"
      },
      "execution_count": null,
      "outputs": []
    },
    {
      "cell_type": "code",
      "source": [
        "'''\n",
        "# Patterns\n",
        "1. ^\n",
        "2. $\n",
        "3. .\n",
        "4. *\n",
        "5. w\n",
        "6. W not word\n",
        "7. aA1_\n",
        "8. s space,tab,next line\n",
        "9. S no whitespace chars\n",
        "10. \\t, \\n, \\r --- tab, newline, return\n",
        "11. d for digits\n",
        "12. D for otherthan Digits\n",
        "\n",
        "\n",
        "# Compilation Flags\n",
        "1. IGNORECASE I\n",
        "2. MULTILINE M\n",
        "3. ASCII A\n",
        "4. DOTALL s\n",
        "5. LOCALE L\n",
        "6. VERBOSE X\n",
        "\n",
        "'''"
      ],
      "metadata": {
        "id": "j3nRW5DNs-LW"
      },
      "execution_count": null,
      "outputs": []
    },
    {
      "cell_type": "markdown",
      "source": [
        "# The match Function\n",
        "re.match(pattern,string,flags=0)\n",
        "\n",
        "Output: re.match returns a match object on success, None on Failure,\n",
        "We use group(num=0) for total string\n",
        "groups() fns return all matching subgroups in a tuple(empty if there weren't any)"
      ],
      "metadata": {
        "id": "XL6MIROPCCrw"
      }
    },
    {
      "cell_type": "code",
      "source": [
        "import re\n",
        "line=\"A cat has two ears\"\n",
        "is_match=re.match(r'(.*) has (.*?) .*',line,re.I)\n",
        "if is_match:\n",
        "  print(is_match.group(0))\n",
        "  print(is_match.group(1))\n",
        "else:\n",
        "  print(\"no match found\")"
      ],
      "metadata": {
        "id": "OCPmrwqNs-PK",
        "colab": {
          "base_uri": "https://localhost:8080/"
        },
        "outputId": "cefa0110-4a98-4988-a0e1-677f9bd43e77"
      },
      "execution_count": 3,
      "outputs": [
        {
          "output_type": "stream",
          "name": "stdout",
          "text": [
            "A cat has two ears\n",
            "A cat\n"
          ]
        }
      ]
    },
    {
      "cell_type": "markdown",
      "source": [
        "# The Search Function"
      ],
      "metadata": {
        "id": "zV4OmZJUDYK2"
      }
    },
    {
      "cell_type": "code",
      "source": [
        "import re\n",
        "line=\"Cats are smarter than dogs\"\n",
        "searchObj=re.search(r'(.*) are (.*?) (.*)',line,re.M|re.I)\n",
        "if searchObj:\n",
        "  print(\"searchobj.group()\",searchObj.group())\n",
        "  print(\"searchobj.group()\",searchObj.group(3))\n",
        "else:\n",
        "  print(\"nothing found\")\n"
      ],
      "metadata": {
        "id": "EYIY43jqs-SW",
        "colab": {
          "base_uri": "https://localhost:8080/"
        },
        "outputId": "a5d6ba66-693a-4091-b97d-73720b676524"
      },
      "execution_count": 10,
      "outputs": [
        {
          "output_type": "stream",
          "name": "stdout",
          "text": [
            "searchobj.group() Cats are smarter than dogs\n",
            "searchobj.group() than dogs\n"
          ]
        }
      ]
    },
    {
      "cell_type": "markdown",
      "source": [
        "# Matching Vs Searching\n",
        "1. match checks for a match only at the begining of the string.\n",
        "2. search checks for a match anywhere in the string."
      ],
      "metadata": {
        "id": "kmIygXaTEIyH"
      }
    },
    {
      "cell_type": "code",
      "source": [
        "import re\n",
        "line=\"cats are smarter than dogs\"\n",
        "matchObj=re.match(r'dogs',line,re.I)\n",
        "if matchObj:\n",
        "  print(\"match --> matchObj.group()\",matchObj.group())\n",
        "else:\n",
        "  print(\"No match\")\n",
        "\n",
        "searchObj=re.search(r'dogs',line,re.I)\n",
        "if searchObj:\n",
        "  print(\"search --> searchObj.group()\",searchObj.group())\n",
        "else:\n",
        "  print(\"no match\")"
      ],
      "metadata": {
        "id": "LpSv1nNEs-V_",
        "colab": {
          "base_uri": "https://localhost:8080/"
        },
        "outputId": "fe46c29b-c307-4f4f-8dbe-d06d5bf97a2c"
      },
      "execution_count": 11,
      "outputs": [
        {
          "output_type": "stream",
          "name": "stdout",
          "text": [
            "No match\n",
            "search --> searchObj.group() dogs\n"
          ]
        }
      ]
    },
    {
      "cell_type": "markdown",
      "source": [
        "# Search and Replace\n",
        "1. one of the most use case for Regular Expressions\n",
        "2. used as re.sub(pattern,rep1,string,max=0)\n",
        "---\n",
        "\n"
      ],
      "metadata": {
        "id": "f5W4r6BjFDlD"
      }
    },
    {
      "cell_type": "code",
      "source": [
        "import re\n",
        "\n",
        "phone=\"2004-234-567 # this is phone number\"\n",
        "\n",
        "# del python style comments\n",
        "num=re.sub(r'#.*$',\"\",phone)\n",
        "print(num)\n",
        "\n",
        "# del other than nums\n",
        "num=re.sub(r'\\D','',phone)\n",
        "print(num)\n",
        "\n",
        "input_string = \"2004-234-567\"\n",
        "output_string = re.sub(r'(^\\d{4})-(\\d)', r'\\1', input_string)\n",
        "# r'\\1\\ represents replace with the digit appeared next to -\n",
        "\n",
        "print(output_string)"
      ],
      "metadata": {
        "colab": {
          "base_uri": "https://localhost:8080/"
        },
        "id": "_9PRb0T5E_dV",
        "outputId": "d6587582-7249-4e55-95db-7ec4e5adde45"
      },
      "execution_count": 21,
      "outputs": [
        {
          "output_type": "stream",
          "name": "stdout",
          "text": [
            "2004-234-567 \n",
            "2004234567\n",
            "200434-567\n"
          ]
        }
      ]
    },
    {
      "cell_type": "code",
      "source": [],
      "metadata": {
        "id": "js7R5JFkGRTi"
      },
      "execution_count": null,
      "outputs": []
    }
  ]
}